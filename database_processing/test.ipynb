{
 "cells": [
  {
   "cell_type": "code",
   "execution_count": null,
   "metadata": {},
   "outputs": [],
   "source": [
    "import pandas as pd\n"
   ]
  },
  {
   "cell_type": "code",
   "execution_count": null,
   "metadata": {},
   "outputs": [],
   "source": [
    "df = pd.read_json(\"processed_extracted_metadata.json\")"
   ]
  },
  {
   "cell_type": "code",
   "execution_count": null,
   "metadata": {},
   "outputs": [],
   "source": [
    "df"
   ]
  },
  {
   "cell_type": "code",
   "execution_count": null,
   "metadata": {},
   "outputs": [],
   "source": [
    "df.columns"
   ]
  },
  {
   "cell_type": "code",
   "execution_count": null,
   "metadata": {},
   "outputs": [],
   "source": [
    "initial = df[['id', 'Instance of', 'Title', 'Duration', 'Netflix ID', \"Disney+ movie ID\", \"Disney+ series ID\", 'Hulu ID']]"
   ]
  },
  {
   "cell_type": "code",
   "execution_count": null,
   "metadata": {},
   "outputs": [],
   "source": [
    "initial.loc[initial['Instance of'] == 'Q11424', 'Instance of'] = 'movie'"
   ]
  },
  {
   "cell_type": "code",
   "execution_count": null,
   "metadata": {},
   "outputs": [],
   "source": [
    "initial.loc[initial['Instance of'] =='Q15416', 'Instance of'] = 'tv'"
   ]
  },
  {
   "cell_type": "code",
   "execution_count": null,
   "metadata": {},
   "outputs": [],
   "source": [
    "initial.loc[~initial['Instance of'].isin(['movie', 'tv']), 'Instance of'] = initial.loc[~initial['Instance of'].isin(['movie', 'tv']), 'Instance of'].apply(lambda x: 'movie' if 'Q11424' in x else x)\n",
    "initial.loc[~initial['Instance of'].isin(['movie', 'tv']), 'Instance of'] = initial.loc[~initial['Instance of'].isin(['movie', 'tv']), 'Instance of'].apply(lambda x: 'tv' if 'Q15416' in x else x)"
   ]
  },
  {
   "cell_type": "code",
   "execution_count": null,
   "metadata": {},
   "outputs": [],
   "source": [
    "initial.loc[~initial['Instance of'].isin(['movie', 'tv'])].iloc[0]['Instance of']"
   ]
  },
  {
   "cell_type": "code",
   "execution_count": null,
   "metadata": {},
   "outputs": [],
   "source": [
    "initial.loc[~initial['Instance of'].isin(['movie', 'tv'])].iloc[3]['Instance of']"
   ]
  },
  {
   "cell_type": "code",
   "execution_count": null,
   "metadata": {},
   "outputs": [],
   "source": [
    "def clean_instance(row):\n",
    "    value = row['Instance of']\n",
    "    \"\"\"\n",
    "    Select the best duration value from the input data.\n",
    "    \n",
    "    The function supports different data types:\n",
    "      - If 'value' is a list of dicts (each with a 'value' and optional 'qualifiers'),\n",
    "        it picks the candidate with the highest priority.\n",
    "      - If 'value' is a list of plain numeric (or string convertible) values,\n",
    "        it converts them and returns the minimum.\n",
    "      - If 'value' is a numeric or string, it converts it appropriately.\n",
    "    \n",
    "    Returns:\n",
    "      A rounded numeric duration (an int) or None if conversion fails.\n",
    "    \"\"\"\n",
    "    results = []\n",
    "    if isinstance(value, str):\n",
    "        if value == 'Q11424':\n",
    "            return 'movie'\n",
    "        elif value == 'Q15416':\n",
    "            return 'tv'\n",
    "        else:\n",
    "            return value\n",
    "    elif isinstance(value, dict):\n",
    "        if value.get('value') == 'Q11424':\n",
    "            return 'movie'\n",
    "        elif value.get('value') == 'Q15416':\n",
    "            return 'tv'\n",
    "        else:\n",
    "            return value\n",
    "    # Case 1: 'value' is a list.\n",
    "    if isinstance(value, list):\n",
    "        # Check if the list elements are dictionaries (i.e. structured with qualifiers).\n",
    "        if all(isinstance(item, dict) for item in value):\n",
    "            for item in value:\n",
    "                item_value = item.get('value')\n",
    "                if item_value == 'Q11424':\n",
    "                    results.append('movie')\n",
    "                elif item_value == 'Q15416':\n",
    "                    results.append('tv')\n",
    "                else:\n",
    "                    results.append(item)\n",
    "        elif any(isinstance(item, dict) for item in value):\n",
    "            for item in value:\n",
    "                try:\n",
    "                    item_value = item.get('value')\n",
    "                    if item_value == 'Q11424':\n",
    "                        results.append('movie')\n",
    "                    elif item_value == 'Q15416':\n",
    "                        results.append('tv')\n",
    "                    else:\n",
    "                        results.append(item)\n",
    "                except:\n",
    "                    for item in value:\n",
    "                        if item == 'Q11424':\n",
    "                            results.append('movie')\n",
    "                        elif item == 'Q15416':\n",
    "                            results.append('tv')\n",
    "                        else:\n",
    "                            results.append(item)\n",
    "        else:\n",
    "            for item in value:\n",
    "                if item == 'Q11424':\n",
    "                    results.append('movie')\n",
    "                elif item == 'Q15416':\n",
    "                    results.append('tv')\n",
    "                else:\n",
    "                    results.append(item)\n",
    "    if 'movie' in results:\n",
    "        return 'movie'\n",
    "    elif 'tv' in results:\n",
    "        return 'tv'\n",
    "    else:\n",
    "        return value"
   ]
  },
  {
   "cell_type": "code",
   "execution_count": null,
   "metadata": {},
   "outputs": [],
   "source": [
    "initial.loc[~initial['Instance of'].isin(['movie', 'tv'])].apply(clean_instance, axis=1)"
   ]
  },
  {
   "cell_type": "code",
   "execution_count": null,
   "metadata": {},
   "outputs": [],
   "source": [
    "initial.head()"
   ]
  },
  {
   "cell_type": "code",
   "execution_count": null,
   "metadata": {},
   "outputs": [],
   "source": [
    "initial.describe()"
   ]
  },
  {
   "cell_type": "code",
   "execution_count": null,
   "metadata": {},
   "outputs": [],
   "source": [
    "def made_in_us(x):\n",
    "    if isinstance(x, list):\n",
    "        return 'Q30' in x\n",
    "    elif isinstance(x, str):\n",
    "        return x == 'Q30'"
   ]
  },
  {
   "cell_type": "code",
   "execution_count": null,
   "metadata": {},
   "outputs": [],
   "source": [
    "import numpy as np\n",
    "import math\n",
    "\n",
    "def is_non_scalar(value):\n",
    "    return isinstance(value, (list, dict, set, tuple, np.ndarray))\n",
    "\n",
    "def get_candidate_priority(candidate):\n",
    "    \"\"\"\n",
    "    Determine the candidate's priority based on its qualifiers.\n",
    "    Lower numbers indicate higher priority.\n",
    "    \n",
    "    Priority rules:\n",
    "      1. If the candidate's 'applies to part' qualifier has id 'Q26225765', return priority 1.\n",
    "      2. Else if the candidate's 'place of publication' qualifier equals ['Q30'], return priority 2.\n",
    "      3. Otherwise, return priority 3.\n",
    "    \"\"\"\n",
    "    qualifiers = candidate.get('qualifiers', {})\n",
    "    # Highest priority: \"applies to part\" equals Q26225765\n",
    "    applies_to = qualifiers.get('applies to part')\n",
    "    if isinstance(applies_to, list) and applies_to:\n",
    "        # Check the first (or any) candidate; adjust if multiple values need to be considered.\n",
    "        if isinstance(applies_to[0], dict) and applies_to[0].get('id') == 'Q26225765':\n",
    "            return 1\n",
    "    # Next priority: \"place of publication\" equals ['Q30']\n",
    "    pop = qualifiers.get('place of publication')\n",
    "    if isinstance(pop, list) and pop == ['Q30']:\n",
    "        return 2\n",
    "    # Lower priority for any candidate that doesn’t match the above.\n",
    "    return 3\n",
    "\n",
    "def clean_duration(value):\n",
    "    \"\"\"\n",
    "    Select the best duration value from the input data.\n",
    "    \n",
    "    The function supports different data types:\n",
    "      - If 'value' is a list of dicts (each with a 'value' and optional 'qualifiers'),\n",
    "        it picks the candidate with the highest priority.\n",
    "      - If 'value' is a list of plain numeric (or string convertible) values,\n",
    "        it converts them and returns the minimum.\n",
    "      - If 'value' is a numeric or string, it converts it appropriately.\n",
    "    \n",
    "    Returns:\n",
    "      A rounded numeric duration (an int) or None if conversion fails.\n",
    "    \"\"\"\n",
    "    # Case 1: 'value' is a list.\n",
    "    if isinstance(value, list):\n",
    "        # Check if the list elements are dictionaries (i.e. structured with qualifiers).\n",
    "        if all(isinstance(item, dict) for item in value):\n",
    "            # Filter out candidates that have a 'value' key.\n",
    "            candidates = [item for item in value if 'value' in item]\n",
    "            if not candidates:\n",
    "                return None\n",
    "            # Assign a priority to each candidate.\n",
    "            candidates_with_priority = [\n",
    "                (get_candidate_priority(candidate), candidate) for candidate in candidates\n",
    "            ]\n",
    "            # Sort by priority (lowest number is highest priority).\n",
    "            candidates_with_priority.sort(key=lambda x: x[0])\n",
    "            chosen_candidate = candidates_with_priority[0][1]\n",
    "            chosen_value = chosen_candidate.get('value')\n",
    "            try:\n",
    "                # Convert the chosen value to float and round it.\n",
    "                return round(float(chosen_value))\n",
    "            except (ValueError, TypeError):\n",
    "                return None\n",
    "        else:\n",
    "            # Otherwise, assume the list contains plain numeric or string values.\n",
    "            numeric_candidates = []\n",
    "            for item in value:\n",
    "                try:\n",
    "                    numeric_candidates.append(float(item))\n",
    "                except (ValueError, TypeError):\n",
    "                    continue\n",
    "            if numeric_candidates:\n",
    "                # Here you might choose the minimum (or maximum) duration.\n",
    "                return round(min(numeric_candidates))\n",
    "            else:\n",
    "                return None\n",
    "\n",
    "    # Case 2: 'value' is a numeric type.\n",
    "    elif isinstance(value, (int, float)):\n",
    "        if isinstance(value, float) and math.isnan(value):\n",
    "            return None\n",
    "        try:\n",
    "            return round(float(value))\n",
    "        except (ValueError, TypeError):\n",
    "            return None\n",
    "\n",
    "    # Case 3: 'value' is a string.\n",
    "    elif isinstance(value, str):\n",
    "        try:\n",
    "            return round(float(value))\n",
    "        except ValueError:\n",
    "            return None\n",
    "\n",
    "    # Fallback: unrecognized type.\n",
    "    else:\n",
    "        return None\n",
    "    \n",
    "initial = initial.loc[(initial['Title'] != '')]\n",
    "initial['Duration'] = initial['Duration'].apply(clean_duration)"
   ]
  },
  {
   "cell_type": "code",
   "execution_count": null,
   "metadata": {},
   "outputs": [],
   "source": [
    "# import numpy as np\n",
    "# import math\n",
    "# def is_non_scalar(value):\n",
    "#     return isinstance(value, (list, dict, set, tuple, np.ndarray))\n",
    "\n",
    "# def choose_duration(value):\n",
    "#     if isinstance(value, list) and isinstance(value[0], dict):\n",
    "#         for versions in value:\n",
    "#             if isinstance(versions, dict):\n",
    "#                 if versions.get('qualifiers').get('applies to part'):\n",
    "#                     if versions.get('qualifiers').get('applies to part')[0]['id'] == 'Q26225765':\n",
    "#                         return versions.get('value')\n",
    "#                 if versions.get('qualifiers').get('place of publication'):\n",
    "#                     if versions.get('qualifiers').get('place of publication') == ['Q30']:\n",
    "#                         return versions.get('value')\n",
    "#         return value[0]['value']\n",
    "#     elif isinstance(value, list):\n",
    "#         print(value)\n",
    "#         for idx, versions in enumerate(value):\n",
    "#             if isinstance(versions, dict):\n",
    "#                 if versions.get('qualifiers').get('applies to part'):\n",
    "#                     if versions.get('qualifiers').get('applies to part')[0]['id'] == 'Q26225765':\n",
    "#                         return versions.get('value')\n",
    "#                     else:\n",
    "#                         value.pop(idx)\n",
    "#                 elif versions.get('qualifiers').get('place of publication'):\n",
    "#                     if versions.get('qualifiers').get('place of publication') == ['Q30']:\n",
    "#                         return versions.get('value')\n",
    "#                     else:\n",
    "#                         value.pop(idx)\n",
    "#                 else:\n",
    "#                     value.pop(idx)\n",
    "#         print(value)\n",
    "#         return min(value)\n",
    "\n",
    "#     elif isinstance(value, (int, float)):\n",
    "#         if math.isnan(value):\n",
    "#             return None\n",
    "#         return round(value)\n",
    "#     elif isinstance(value, str):\n",
    "#         return round(float(value))\n",
    "\n",
    "# initial = initial.loc[(initial['Title'] != '')]\n",
    "# initial['Duration'] = initial['Duration'].apply(choose_duration)"
   ]
  },
  {
   "cell_type": "code",
   "execution_count": null,
   "metadata": {},
   "outputs": [],
   "source": [
    "def check_for_list_or_dict(row):\n",
    "    if isinstance(row, (int, float)):\n",
    "        return False\n",
    "    for item in row:\n",
    "        if isinstance(item, list) or isinstance(item, dict):\n",
    "            return True\n",
    "    return False"
   ]
  },
  {
   "cell_type": "code",
   "execution_count": null,
   "metadata": {},
   "outputs": [],
   "source": [
    "initial.loc[initial['Disney+ movie ID'].apply(check_for_list_or_dict)]"
   ]
  },
  {
   "cell_type": "code",
   "execution_count": null,
   "metadata": {},
   "outputs": [],
   "source": [
    "initial.loc[initial['Disney+ series ID'].apply(check_for_list_or_dict)]"
   ]
  },
  {
   "cell_type": "code",
   "execution_count": null,
   "metadata": {},
   "outputs": [],
   "source": [
    "initial.loc[initial['Hulu ID'].apply(check_for_list_or_dict)]"
   ]
  },
  {
   "cell_type": "code",
   "execution_count": null,
   "metadata": {},
   "outputs": [],
   "source": [
    "#Specific Netflix IDs to fix:\n",
    "problematic_netflix_ids = ('Q289127', 'Q21001674', 'Q320588', 'Q13897247', 'Q20495759')\n",
    "problematic_netflix_ids = initial.loc[initial['Netflix ID'].apply(check_for_list_or_dict)]['id'].tolist()\n",
    "problematic_disney_movie_ids = initial.loc[initial['Disney+ movie ID'].apply(check_for_list_or_dict)]['id'].tolist()\n",
    "problematic_disney_series_ids = initial.loc[initial['Disney+ series ID'].apply(check_for_list_or_dict)]['id'].tolist()\n",
    "problematic_hulu_ids = initial.loc[initial['Hulu ID'].apply(check_for_list_or_dict)]['id'].tolist()"
   ]
  },
  {
   "cell_type": "code",
   "execution_count": null,
   "metadata": {},
   "outputs": [],
   "source": [
    "def flatten_list(value):\n",
    "    row = []\n",
    "    if isinstance(value, list):\n",
    "        for val in value:\n",
    "            if isinstance(val, dict):\n",
    "                row.append(val['value'])\n",
    "            else:\n",
    "                row.append(val)\n",
    "        return row\n",
    "    return value"
   ]
  },
  {
   "cell_type": "code",
   "execution_count": null,
   "metadata": {},
   "outputs": [],
   "source": [
    "initial.loc[initial['id'].isin(problematic_netflix_ids), 'Netflix ID'] = \\\n",
    "    initial.loc[initial['id'].isin(problematic_netflix_ids), 'Netflix ID'].apply(flatten_list)\n",
    "\n",
    "initial.loc[initial['id'].isin(problematic_disney_movie_ids), 'Disney+ movie ID'] = \\\n",
    "    initial.loc[initial['id'].isin(problematic_disney_movie_ids), 'Disney+ movie ID'].apply(flatten_list)"
   ]
  },
  {
   "cell_type": "code",
   "execution_count": null,
   "metadata": {},
   "outputs": [],
   "source": [
    "# initial.loc[initial['Instance of'] != 'Q11424'].apply(flatten_list)"
   ]
  },
  {
   "cell_type": "code",
   "execution_count": null,
   "metadata": {},
   "outputs": [],
   "source": [
    "initial.loc[initial['id'].isin(problematic_disney_movie_ids)]"
   ]
  },
  {
   "cell_type": "code",
   "execution_count": null,
   "metadata": {},
   "outputs": [],
   "source": [
    "initial"
   ]
  },
  {
   "cell_type": "code",
   "execution_count": null,
   "metadata": {},
   "outputs": [],
   "source": [
    "df['Instance of'].apply(lambda x: x['value'] if isinstance(x, dict) else x)"
   ]
  },
  {
   "cell_type": "code",
   "execution_count": null,
   "metadata": {},
   "outputs": [],
   "source": [
    "print(df[['id', 'Genre']].dropna().explode('Genre'))"
   ]
  },
  {
   "cell_type": "code",
   "execution_count": null,
   "metadata": {},
   "outputs": [],
   "source": [
    "# import sqlalchemy\n",
    "# from urllib.parse import quote_plus\n",
    "\n",
    "# DB_HOST = \"35.236.65.215\"\n",
    "# DB_USER = \"dannydhkim\"\n",
    "# DB_PASSWORD = \"!@#$Mari03240306\"\n",
    "# DB_NAME = \"popcorn_metadata\"\n",
    "# DB_PORT = \"3306\"\n",
    "\n",
    "# encoded_password = quote_plus(DB_PASSWORD)\n",
    "# # Connect to MySQL\n",
    "# engine = sqlalchemy.create_engine(f\"mysql+pymysql://{DB_USER}:{encoded_password}@{DB_HOST}:{DB_PORT}/{DB_NAME}\")\n",
    "# df = df[['id', 'Genre']].dropna().explode('Genre')\n",
    "# df = df.rename(columns={\"id\": \"content_id\", \"Genre\": \"genre_id\"})\n",
    "# df.to_sql(\"content_genre\", con=engine, if_exists=\"append\", index=False)\n",
    "\n",
    "# print(\"Data successfully written to MySQL!\")\n"
   ]
  },
  {
   "cell_type": "code",
   "execution_count": null,
   "metadata": {},
   "outputs": [],
   "source": [
    "print(df['Title'].loc[df['Title'].duplicated()].sort_values().tail(15))"
   ]
  },
  {
   "cell_type": "code",
   "execution_count": null,
   "metadata": {},
   "outputs": [],
   "source": [
    "print(df['Title'].loc[df['Title']==''])"
   ]
  }
 ],
 "metadata": {
  "kernelspec": {
   "display_name": "venv",
   "language": "python",
   "name": "python3"
  },
  "language_info": {
   "codemirror_mode": {
    "name": "ipython",
    "version": 3
   },
   "file_extension": ".py",
   "mimetype": "text/x-python",
   "name": "python",
   "nbconvert_exporter": "python",
   "pygments_lexer": "ipython3",
   "version": "3.10.11"
  }
 },
 "nbformat": 4,
 "nbformat_minor": 2
}
